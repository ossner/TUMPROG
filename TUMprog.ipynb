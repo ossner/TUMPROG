{
 "cells": [
  {
   "cell_type": "markdown",
   "id": "25634371",
   "metadata": {},
   "source": [
    "# TUMprog\n",
    "**A notebook containing all things regarding numerical mathematics and numerical programming**\n",
    "\n",
    "This notebook uses the popular Julia language to show the implementation of the algorithms discussed, and it is recommended to work- and play around with the examples"
   ]
  },
  {
   "cell_type": "markdown",
   "id": "a0a25a1c",
   "metadata": {},
   "source": [
    "## Table of Contents\n",
    "1. [Introduction](#introduction)\n",
    "2. [Numbers and Their Representation](#numbers-and-their-representation)<br/>\n",
    "    2.1 [Discretization](#discretization)"
   ]
  },
  {
   "cell_type": "markdown",
   "id": "a20c5437",
   "metadata": {},
   "source": [
    "<a id='introduction'></a>\n",
    "## Introduction\n",
    "This section will give you a brief overview of the subject that this notebook is about, who wrote it, and what the point of all this is.\n",
    "### What is Numerical Analasys?\n",
    "Numerical analysis (henceforth sometimes called numerics) is a field of mathematics that concerns itself with the study of algorithms used in a myriad of science disciplines. It's main purpose for the sake of this notebook (and most applications) is the computing of these algorithms as precisely as possible in an efficient and feasible manner.\n",
    "\n",
    "Now that might seem daunting at first, but this subject can break down some of the layman's most vexing mathematical topics in a few lines of code (and with pretty graphs :)).\n",
    "### What Does This Notebook Contain?\n",
    "This notebook will start by explaining some of the basics of numerical analysis. Most of the groundwork will be laid by the discussion of numbers (yes, we're going full circle back to preschool), the principle of errors and the practice of discretization.\n",
    "\n",
    "After we cleared up these terms, we will go on to the actual algorithms, many you will without a doubt remember, some you may have never heard of.\n",
    "\n",
    "I will try to keep the explanation of these algorithms as relevant to the real world as possible.\n",
    "### Who Are You and Why Are You Doing This?\n",
    "My name is Sebastian Ossner and as a computer science student my favorite course by far was \"Numerical Programming\", even though I was never much of a math-guy. The numerical programming course I took was the first to combine the only part of math I ever found really relevant (algorithms) with the part that you could actually use as a programmer (the programming).\n",
    "\n",
    "So in order to revisit the contents of the subject, sharpen my programming skills in a new language and provide something for others in the progress, i created this notebook. It is, of course, not without its flaws and can always be expanded with more content. In case you find one of the former, feel free to open an issue on [GitHub](https:://github.com/ossner/TUMprog). In case you want to contribute (which always makes me happy) you can open a pull request with your changes."
   ]
  },
  {
   "cell_type": "markdown",
   "id": "deb71ed0",
   "metadata": {},
   "source": [
    "<a id='numbers-and-their-representation'></a>\n",
    "# Numbers and Their Representation\n",
    "Computers control almost every aspect of our daily life. Unless you're Ted Kaczynski, this was also true for a large part of your life. \n",
    "But unlike most people think, numbers and computers (much like mauve pants and an orange shirt) don't really go well together, which is why a lot of smart people thought of a lot of really smart ways to make computers use numbers as best they can."
   ]
  },
  {
   "cell_type": "markdown",
   "id": "1ed0843d",
   "metadata": {},
   "source": [
    "<a id='discretization'></a>\n",
    "## Discretization\n",
    "Sure computers can handle some integers just fine, but once you get into the realm of the real numbers, things start to get approximated. Computers have inherently limited memory, which is why continuous numbers (of which there are a looooot) can not be represented and have to be \"dumbed down\" to discrete ones. This process is called **Discretization**.\n",
    "\n",
    "In order to represent something approximating the real numbers, we will introduce **floating point numbers** that represent t digits. These numbers will have a *mantissa M*, a *base B* and an *exponent E*:\n",
    "\n",
    "$B \\in \\mathbb{N} \\setminus \\{1\\}$\n",
    "\n",
    "$t \\in \\mathbb{N}$\n",
    "\n",
    "$$\\mathbb{F}_{B,t} := \\{M*B^E:M=0 \\text{ or } B^{t-1}\\leq |M| \\leq B^t, M, E\\in \\mathbb{Z}\\}$$\n",
    "\n",
    "(This definition isn't really that important)\n",
    "\n",
    "Using this definition we can go on to define **machine numbers**\n",
    "\n",
    "$$\\mathbb{F}_{B,t,\\alpha, \\beta}:=\\{f\\in\\mathbb{F}_{B,t}:\\alpha\\leq E\\leq\\beta\\}$$\n",
    "$(B,t,\\alpha,\\beta)$ completely characterizes the representable numbers. Using "
   ]
  }
 ],
 "metadata": {
  "kernelspec": {
   "display_name": "Julia 1.6.2",
   "language": "julia",
   "name": "julia-1.6"
  },
  "language_info": {
   "file_extension": ".jl",
   "mimetype": "application/julia",
   "name": "julia",
   "version": "1.6.2"
  }
 },
 "nbformat": 4,
 "nbformat_minor": 5
}